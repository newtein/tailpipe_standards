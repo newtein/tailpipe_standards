{
 "cells": [
  {
   "cell_type": "code",
   "execution_count": 1,
   "metadata": {},
   "outputs": [],
   "source": [
    "import pandas as pd"
   ]
  },
  {
   "cell_type": "code",
   "execution_count": null,
   "metadata": {},
   "outputs": [],
   "source": [
    "df = pd.DataFrame(columns=['a', 'b'], data=[[1,2], [1,5], [6,2]])"
   ]
  },
  {
   "cell_type": "code",
   "execution_count": null,
   "metadata": {},
   "outputs": [],
   "source": [
    "df"
   ]
  },
  {
   "cell_type": "code",
   "execution_count": null,
   "metadata": {},
   "outputs": [],
   "source": [
    "def sum_it(x):\n",
    "    return x+5.5\n",
    "\n",
    "pd.options.mode.chained_assignment = None\n",
    "mask = df['a']==1\n",
    "df[mask]['b'] = df[mask]['b'].apply(sum_it).tolist()"
   ]
  },
  {
   "cell_type": "code",
   "execution_count": null,
   "metadata": {},
   "outputs": [],
   "source": [
    "df['a'] = [5,6,5]"
   ]
  },
  {
   "cell_type": "code",
   "execution_count": null,
   "metadata": {},
   "outputs": [],
   "source": [
    "df"
   ]
  },
  {
   "cell_type": "code",
   "execution_count": null,
   "metadata": {},
   "outputs": [],
   "source": [
    "df.iloc(mask, 'b') = [1,2]"
   ]
  },
  {
   "cell_type": "code",
   "execution_count": null,
   "metadata": {},
   "outputs": [],
   "source": [
    "df"
   ]
  },
  {
   "cell_type": "code",
   "execution_count": null,
   "metadata": {},
   "outputs": [],
   "source": [
    "df.loc(mask, 'b') =  df[mask]['b'].apply(lambda x:x+0.5).tolist()"
   ]
  },
  {
   "cell_type": "code",
   "execution_count": null,
   "metadata": {},
   "outputs": [],
   "source": [
    "from get_population import USPopulation\n"
   ]
  },
  {
   "cell_type": "code",
   "execution_count": null,
   "metadata": {},
   "outputs": [],
   "source": [
    "population_obj = USPopulation()\n"
   ]
  },
  {
   "cell_type": "code",
   "execution_count": null,
   "metadata": {},
   "outputs": [],
   "source": [
    "self.population_obj.get(county_name, state_name)"
   ]
  },
  {
   "cell_type": "code",
   "execution_count": null,
   "metadata": {},
   "outputs": [],
   "source": [
    "from constants import *"
   ]
  },
  {
   "cell_type": "code",
   "execution_count": null,
   "metadata": {},
   "outputs": [],
   "source": [
    "df = pd.read_csv(CENSUS_DATA_PATH)"
   ]
  },
  {
   "cell_type": "code",
   "execution_count": null,
   "metadata": {},
   "outputs": [],
   "source": [
    "f1 = (df['county_name'] == 'Philadelphia County')\n",
    "f2 = (df['state_name'] == 'Pennsylvania')\n",
    "df[f1]['state_name'].tolist()[0]"
   ]
  },
  {
   "cell_type": "code",
   "execution_count": null,
   "metadata": {},
   "outputs": [],
   "source": [
    "len(\"Pennsylvania\")"
   ]
  },
  {
   "cell_type": "code",
   "execution_count": null,
   "metadata": {},
   "outputs": [],
   "source": [
    "import matplotlib.pyplot as plt"
   ]
  },
  {
   "cell_type": "code",
   "execution_count": null,
   "metadata": {},
   "outputs": [],
   "source": [
    "plt.boxplot([0,1,2],[[1,2,3], [2,5,4], [7,8,9]])\n",
    "plt.show()"
   ]
  },
  {
   "cell_type": "code",
   "execution_count": null,
   "metadata": {},
   "outputs": [],
   "source": [
    "df = pd.DataFrame(columns=['a', 'b'], data=[[1,2], [1,5], [6,2]])"
   ]
  },
  {
   "cell_type": "code",
   "execution_count": null,
   "metadata": {},
   "outputs": [],
   "source": [
    "df.groupby('a')['b'].apply(list).reset_index()['b'].tolist()"
   ]
  },
  {
   "cell_type": "code",
   "execution_count": null,
   "metadata": {},
   "outputs": [],
   "source": [
    "df = pd.read_csv(\"output_tables/Cook County_NET_CRITERIA_2010_2019_pop_adjusted_.csv\")"
   ]
  },
  {
   "cell_type": "code",
   "execution_count": null,
   "metadata": {},
   "outputs": [],
   "source": [
    "df[['year', 'month', 'CO']].groupby('year')['CO'].apply(list).reset_index()['CO'].tolist()"
   ]
  },
  {
   "cell_type": "code",
   "execution_count": null,
   "metadata": {},
   "outputs": [],
   "source": [
    "pp"
   ]
  },
  {
   "cell_type": "code",
   "execution_count": null,
   "metadata": {},
   "outputs": [],
   "source": [
    "x = [1,2,3]"
   ]
  },
  {
   "cell_type": "code",
   "execution_count": null,
   "metadata": {},
   "outputs": [],
   "source": [
    "import numpy as np"
   ]
  },
  {
   "cell_type": "code",
   "execution_count": null,
   "metadata": {},
   "outputs": [],
   "source": [
    "np.array(x)"
   ]
  },
  {
   "cell_type": "code",
   "execution_count": null,
   "metadata": {},
   "outputs": [],
   "source": []
  },
  {
   "cell_type": "code",
   "execution_count": null,
   "metadata": {},
   "outputs": [],
   "source": []
  },
  {
   "cell_type": "code",
   "execution_count": null,
   "metadata": {},
   "outputs": [],
   "source": [
    "df = pd.read_csv(\"ambient_air_data/daily_42101_2020_06_037.csv\")"
   ]
  },
  {
   "cell_type": "code",
   "execution_count": null,
   "metadata": {},
   "outputs": [],
   "source": [
    "df['date_local'] = pd.to_datetime(df['date_local'], format='%Y-%m-%d')"
   ]
  },
  {
   "cell_type": "code",
   "execution_count": null,
   "metadata": {},
   "outputs": [],
   "source": [
    "df['date_local'].unique()"
   ]
  },
  {
   "cell_type": "code",
   "execution_count": null,
   "metadata": {},
   "outputs": [],
   "source": [
    "idx = pd.date_range('01-01-2010', '12-31-2019')"
   ]
  },
  {
   "cell_type": "code",
   "execution_count": null,
   "metadata": {},
   "outputs": [],
   "source": [
    "df = pd.DataFrame({\n",
    "    'date_local': pd.to_datetime(\n",
    "        ['2016-11-15','2016-11-18','2016-11-15','2016-11-17']),\n",
    "    'values':['a','c','d', 'e'],\n",
    "    'id': [1,1,2,2]})\n",
    "df.index = pd.DatetimeIndex(df['date_local']).floor('D')"
   ]
  },
  {
   "cell_type": "code",
   "execution_count": null,
   "metadata": {},
   "outputs": [],
   "source": [
    "df"
   ]
  },
  {
   "cell_type": "code",
   "execution_count": null,
   "metadata": {},
   "outputs": [],
   "source": [
    "idx = pd.date_range('11-15-2016', '11-18-2016')"
   ]
  },
  {
   "cell_type": "code",
   "execution_count": null,
   "metadata": {},
   "outputs": [],
   "source": [
    "idx"
   ]
  },
  {
   "cell_type": "code",
   "execution_count": null,
   "metadata": {},
   "outputs": [],
   "source": [
    "\n",
    "df =df.reindex(idx, fill_value=np.nan)"
   ]
  },
  {
   "cell_type": "code",
   "execution_count": null,
   "metadata": {},
   "outputs": [],
   "source": [
    "df.reset_index()"
   ]
  },
  {
   "cell_type": "code",
   "execution_count": 22,
   "metadata": {},
   "outputs": [],
   "source": [
    "from read_data import ReadData\n",
    "read_obj = ReadData('CO', filename=\"ambient_air_data/daily_42101_2020_06_037.csv\", county_level=True)\n",
    "df= read_obj.get_pandas_obj()\n"
   ]
  },
  {
   "cell_type": "code",
   "execution_count": 23,
   "metadata": {},
   "outputs": [
    {
     "data": {
      "text/html": [
       "<div>\n",
       "<style scoped>\n",
       "    .dataframe tbody tr th:only-of-type {\n",
       "        vertical-align: middle;\n",
       "    }\n",
       "\n",
       "    .dataframe tbody tr th {\n",
       "        vertical-align: top;\n",
       "    }\n",
       "\n",
       "    .dataframe thead th {\n",
       "        text-align: right;\n",
       "    }\n",
       "</style>\n",
       "<table border=\"1\" class=\"dataframe\">\n",
       "  <thead>\n",
       "    <tr style=\"text-align: right;\">\n",
       "      <th></th>\n",
       "      <th>id</th>\n",
       "      <th>date_local</th>\n",
       "      <th>aqi</th>\n",
       "      <th>arithmetic_mean</th>\n",
       "      <th>cbsa</th>\n",
       "      <th>cbsa_code</th>\n",
       "      <th>city</th>\n",
       "      <th>county</th>\n",
       "      <th>county_code</th>\n",
       "      <th>date_of_last_change</th>\n",
       "      <th>...</th>\n",
       "      <th>parameter_code</th>\n",
       "      <th>poc</th>\n",
       "      <th>pollutant_standard</th>\n",
       "      <th>sample_duration</th>\n",
       "      <th>site_address</th>\n",
       "      <th>site_number</th>\n",
       "      <th>state</th>\n",
       "      <th>state_code</th>\n",
       "      <th>units_of_measure</th>\n",
       "      <th>validity_indicator</th>\n",
       "    </tr>\n",
       "  </thead>\n",
       "  <tbody>\n",
       "    <tr>\n",
       "      <th>0</th>\n",
       "      <td>06_037</td>\n",
       "      <td>2010-01-01</td>\n",
       "      <td>17.0</td>\n",
       "      <td>1.086957</td>\n",
       "      <td>Los Angeles-Long Beach-Anaheim, CA</td>\n",
       "      <td>31080</td>\n",
       "      <td>West Los Angeles</td>\n",
       "      <td>Los Angeles</td>\n",
       "      <td>037</td>\n",
       "      <td>2016-04-10</td>\n",
       "      <td>...</td>\n",
       "      <td>42101</td>\n",
       "      <td>1</td>\n",
       "      <td>CO 1-hour 1971</td>\n",
       "      <td>1 HOUR</td>\n",
       "      <td>VA HOSPITAL, WEST LOS ANGELES</td>\n",
       "      <td>0113</td>\n",
       "      <td>California</td>\n",
       "      <td>06</td>\n",
       "      <td>Parts per million</td>\n",
       "      <td>Y</td>\n",
       "    </tr>\n",
       "    <tr>\n",
       "      <th>1</th>\n",
       "      <td>06_037</td>\n",
       "      <td>2010-01-02</td>\n",
       "      <td>30.0</td>\n",
       "      <td>1.691304</td>\n",
       "      <td>Los Angeles-Long Beach-Anaheim, CA</td>\n",
       "      <td>31080</td>\n",
       "      <td>West Los Angeles</td>\n",
       "      <td>Los Angeles</td>\n",
       "      <td>037</td>\n",
       "      <td>2016-04-10</td>\n",
       "      <td>...</td>\n",
       "      <td>42101</td>\n",
       "      <td>1</td>\n",
       "      <td>CO 1-hour 1971</td>\n",
       "      <td>1 HOUR</td>\n",
       "      <td>VA HOSPITAL, WEST LOS ANGELES</td>\n",
       "      <td>0113</td>\n",
       "      <td>California</td>\n",
       "      <td>06</td>\n",
       "      <td>Parts per million</td>\n",
       "      <td>Y</td>\n",
       "    </tr>\n",
       "    <tr>\n",
       "      <th>2</th>\n",
       "      <td>06_037</td>\n",
       "      <td>2010-01-03</td>\n",
       "      <td>28.0</td>\n",
       "      <td>1.329167</td>\n",
       "      <td>Los Angeles-Long Beach-Anaheim, CA</td>\n",
       "      <td>31080</td>\n",
       "      <td>West Los Angeles</td>\n",
       "      <td>Los Angeles</td>\n",
       "      <td>037</td>\n",
       "      <td>2016-04-10</td>\n",
       "      <td>...</td>\n",
       "      <td>42101</td>\n",
       "      <td>1</td>\n",
       "      <td>CO 1-hour 1971</td>\n",
       "      <td>1 HOUR</td>\n",
       "      <td>VA HOSPITAL, WEST LOS ANGELES</td>\n",
       "      <td>0113</td>\n",
       "      <td>California</td>\n",
       "      <td>06</td>\n",
       "      <td>Parts per million</td>\n",
       "      <td>Y</td>\n",
       "    </tr>\n",
       "    <tr>\n",
       "      <th>3</th>\n",
       "      <td>06_037</td>\n",
       "      <td>2010-01-04</td>\n",
       "      <td>27.0</td>\n",
       "      <td>1.326087</td>\n",
       "      <td>Los Angeles-Long Beach-Anaheim, CA</td>\n",
       "      <td>31080</td>\n",
       "      <td>West Los Angeles</td>\n",
       "      <td>Los Angeles</td>\n",
       "      <td>037</td>\n",
       "      <td>2016-04-10</td>\n",
       "      <td>...</td>\n",
       "      <td>42101</td>\n",
       "      <td>1</td>\n",
       "      <td>CO 1-hour 1971</td>\n",
       "      <td>1 HOUR</td>\n",
       "      <td>VA HOSPITAL, WEST LOS ANGELES</td>\n",
       "      <td>0113</td>\n",
       "      <td>California</td>\n",
       "      <td>06</td>\n",
       "      <td>Parts per million</td>\n",
       "      <td>Y</td>\n",
       "    </tr>\n",
       "    <tr>\n",
       "      <th>4</th>\n",
       "      <td>06_037</td>\n",
       "      <td>2010-01-05</td>\n",
       "      <td>30.0</td>\n",
       "      <td>1.562500</td>\n",
       "      <td>Los Angeles-Long Beach-Anaheim, CA</td>\n",
       "      <td>31080</td>\n",
       "      <td>West Los Angeles</td>\n",
       "      <td>Los Angeles</td>\n",
       "      <td>037</td>\n",
       "      <td>2016-04-10</td>\n",
       "      <td>...</td>\n",
       "      <td>42101</td>\n",
       "      <td>1</td>\n",
       "      <td>CO 1-hour 1971</td>\n",
       "      <td>1 HOUR</td>\n",
       "      <td>VA HOSPITAL, WEST LOS ANGELES</td>\n",
       "      <td>0113</td>\n",
       "      <td>California</td>\n",
       "      <td>06</td>\n",
       "      <td>Parts per million</td>\n",
       "      <td>Y</td>\n",
       "    </tr>\n",
       "    <tr>\n",
       "      <th>...</th>\n",
       "      <td>...</td>\n",
       "      <td>...</td>\n",
       "      <td>...</td>\n",
       "      <td>...</td>\n",
       "      <td>...</td>\n",
       "      <td>...</td>\n",
       "      <td>...</td>\n",
       "      <td>...</td>\n",
       "      <td>...</td>\n",
       "      <td>...</td>\n",
       "      <td>...</td>\n",
       "      <td>...</td>\n",
       "      <td>...</td>\n",
       "      <td>...</td>\n",
       "      <td>...</td>\n",
       "      <td>...</td>\n",
       "      <td>...</td>\n",
       "      <td>...</td>\n",
       "      <td>...</td>\n",
       "      <td>...</td>\n",
       "      <td>...</td>\n",
       "    </tr>\n",
       "    <tr>\n",
       "      <th>3647</th>\n",
       "      <td>06_037</td>\n",
       "      <td>2019-12-27</td>\n",
       "      <td>18.0</td>\n",
       "      <td>0.991667</td>\n",
       "      <td>Los Angeles-Long Beach-Anaheim, CA</td>\n",
       "      <td>31080</td>\n",
       "      <td>West Los Angeles</td>\n",
       "      <td>Los Angeles</td>\n",
       "      <td>037</td>\n",
       "      <td>2020-03-25</td>\n",
       "      <td>...</td>\n",
       "      <td>42101</td>\n",
       "      <td>1</td>\n",
       "      <td>CO 1-hour 1971</td>\n",
       "      <td>1 HOUR</td>\n",
       "      <td>VA HOSPITAL, WEST LOS ANGELES</td>\n",
       "      <td>0113</td>\n",
       "      <td>California</td>\n",
       "      <td>06</td>\n",
       "      <td>Parts per million</td>\n",
       "      <td>Y</td>\n",
       "    </tr>\n",
       "    <tr>\n",
       "      <th>3648</th>\n",
       "      <td>06_037</td>\n",
       "      <td>2019-12-28</td>\n",
       "      <td>13.0</td>\n",
       "      <td>0.787500</td>\n",
       "      <td>Los Angeles-Long Beach-Anaheim, CA</td>\n",
       "      <td>31080</td>\n",
       "      <td>West Los Angeles</td>\n",
       "      <td>Los Angeles</td>\n",
       "      <td>037</td>\n",
       "      <td>2020-03-25</td>\n",
       "      <td>...</td>\n",
       "      <td>42101</td>\n",
       "      <td>1</td>\n",
       "      <td>CO 1-hour 1971</td>\n",
       "      <td>1 HOUR</td>\n",
       "      <td>VA HOSPITAL, WEST LOS ANGELES</td>\n",
       "      <td>0113</td>\n",
       "      <td>California</td>\n",
       "      <td>06</td>\n",
       "      <td>Parts per million</td>\n",
       "      <td>Y</td>\n",
       "    </tr>\n",
       "    <tr>\n",
       "      <th>3649</th>\n",
       "      <td>06_037</td>\n",
       "      <td>2019-12-29</td>\n",
       "      <td>16.0</td>\n",
       "      <td>0.950000</td>\n",
       "      <td>Los Angeles-Long Beach-Anaheim, CA</td>\n",
       "      <td>31080</td>\n",
       "      <td>West Los Angeles</td>\n",
       "      <td>Los Angeles</td>\n",
       "      <td>037</td>\n",
       "      <td>2020-03-25</td>\n",
       "      <td>...</td>\n",
       "      <td>42101</td>\n",
       "      <td>1</td>\n",
       "      <td>CO 1-hour 1971</td>\n",
       "      <td>1 HOUR</td>\n",
       "      <td>VA HOSPITAL, WEST LOS ANGELES</td>\n",
       "      <td>0113</td>\n",
       "      <td>California</td>\n",
       "      <td>06</td>\n",
       "      <td>Parts per million</td>\n",
       "      <td>Y</td>\n",
       "    </tr>\n",
       "    <tr>\n",
       "      <th>3650</th>\n",
       "      <td>06_037</td>\n",
       "      <td>2019-12-30</td>\n",
       "      <td>17.0</td>\n",
       "      <td>0.754167</td>\n",
       "      <td>Los Angeles-Long Beach-Anaheim, CA</td>\n",
       "      <td>31080</td>\n",
       "      <td>West Los Angeles</td>\n",
       "      <td>Los Angeles</td>\n",
       "      <td>037</td>\n",
       "      <td>2020-03-25</td>\n",
       "      <td>...</td>\n",
       "      <td>42101</td>\n",
       "      <td>1</td>\n",
       "      <td>CO 1-hour 1971</td>\n",
       "      <td>1 HOUR</td>\n",
       "      <td>VA HOSPITAL, WEST LOS ANGELES</td>\n",
       "      <td>0113</td>\n",
       "      <td>California</td>\n",
       "      <td>06</td>\n",
       "      <td>Parts per million</td>\n",
       "      <td>Y</td>\n",
       "    </tr>\n",
       "    <tr>\n",
       "      <th>3651</th>\n",
       "      <td>06_037</td>\n",
       "      <td>2019-12-31</td>\n",
       "      <td>22.0</td>\n",
       "      <td>1.287500</td>\n",
       "      <td>Los Angeles-Long Beach-Anaheim, CA</td>\n",
       "      <td>31080</td>\n",
       "      <td>West Los Angeles</td>\n",
       "      <td>Los Angeles</td>\n",
       "      <td>037</td>\n",
       "      <td>2020-03-25</td>\n",
       "      <td>...</td>\n",
       "      <td>42101</td>\n",
       "      <td>1</td>\n",
       "      <td>CO 1-hour 1971</td>\n",
       "      <td>1 HOUR</td>\n",
       "      <td>VA HOSPITAL, WEST LOS ANGELES</td>\n",
       "      <td>0113</td>\n",
       "      <td>California</td>\n",
       "      <td>06</td>\n",
       "      <td>Parts per million</td>\n",
       "      <td>Y</td>\n",
       "    </tr>\n",
       "  </tbody>\n",
       "</table>\n",
       "<p>3652 rows × 32 columns</p>\n",
       "</div>"
      ],
      "text/plain": [
       "          id date_local   aqi  arithmetic_mean  \\\n",
       "0     06_037 2010-01-01  17.0         1.086957   \n",
       "1     06_037 2010-01-02  30.0         1.691304   \n",
       "2     06_037 2010-01-03  28.0         1.329167   \n",
       "3     06_037 2010-01-04  27.0         1.326087   \n",
       "4     06_037 2010-01-05  30.0         1.562500   \n",
       "...      ...        ...   ...              ...   \n",
       "3647  06_037 2019-12-27  18.0         0.991667   \n",
       "3648  06_037 2019-12-28  13.0         0.787500   \n",
       "3649  06_037 2019-12-29  16.0         0.950000   \n",
       "3650  06_037 2019-12-30  17.0         0.754167   \n",
       "3651  06_037 2019-12-31  22.0         1.287500   \n",
       "\n",
       "                                    cbsa  cbsa_code              city  \\\n",
       "0     Los Angeles-Long Beach-Anaheim, CA      31080  West Los Angeles   \n",
       "1     Los Angeles-Long Beach-Anaheim, CA      31080  West Los Angeles   \n",
       "2     Los Angeles-Long Beach-Anaheim, CA      31080  West Los Angeles   \n",
       "3     Los Angeles-Long Beach-Anaheim, CA      31080  West Los Angeles   \n",
       "4     Los Angeles-Long Beach-Anaheim, CA      31080  West Los Angeles   \n",
       "...                                  ...        ...               ...   \n",
       "3647  Los Angeles-Long Beach-Anaheim, CA      31080  West Los Angeles   \n",
       "3648  Los Angeles-Long Beach-Anaheim, CA      31080  West Los Angeles   \n",
       "3649  Los Angeles-Long Beach-Anaheim, CA      31080  West Los Angeles   \n",
       "3650  Los Angeles-Long Beach-Anaheim, CA      31080  West Los Angeles   \n",
       "3651  Los Angeles-Long Beach-Anaheim, CA      31080  West Los Angeles   \n",
       "\n",
       "           county county_code date_of_last_change  ... parameter_code poc  \\\n",
       "0     Los Angeles         037          2016-04-10  ...          42101   1   \n",
       "1     Los Angeles         037          2016-04-10  ...          42101   1   \n",
       "2     Los Angeles         037          2016-04-10  ...          42101   1   \n",
       "3     Los Angeles         037          2016-04-10  ...          42101   1   \n",
       "4     Los Angeles         037          2016-04-10  ...          42101   1   \n",
       "...           ...         ...                 ...  ...            ...  ..   \n",
       "3647  Los Angeles         037          2020-03-25  ...          42101   1   \n",
       "3648  Los Angeles         037          2020-03-25  ...          42101   1   \n",
       "3649  Los Angeles         037          2020-03-25  ...          42101   1   \n",
       "3650  Los Angeles         037          2020-03-25  ...          42101   1   \n",
       "3651  Los Angeles         037          2020-03-25  ...          42101   1   \n",
       "\n",
       "      pollutant_standard  sample_duration                   site_address  \\\n",
       "0         CO 1-hour 1971           1 HOUR  VA HOSPITAL, WEST LOS ANGELES   \n",
       "1         CO 1-hour 1971           1 HOUR  VA HOSPITAL, WEST LOS ANGELES   \n",
       "2         CO 1-hour 1971           1 HOUR  VA HOSPITAL, WEST LOS ANGELES   \n",
       "3         CO 1-hour 1971           1 HOUR  VA HOSPITAL, WEST LOS ANGELES   \n",
       "4         CO 1-hour 1971           1 HOUR  VA HOSPITAL, WEST LOS ANGELES   \n",
       "...                  ...              ...                            ...   \n",
       "3647      CO 1-hour 1971           1 HOUR  VA HOSPITAL, WEST LOS ANGELES   \n",
       "3648      CO 1-hour 1971           1 HOUR  VA HOSPITAL, WEST LOS ANGELES   \n",
       "3649      CO 1-hour 1971           1 HOUR  VA HOSPITAL, WEST LOS ANGELES   \n",
       "3650      CO 1-hour 1971           1 HOUR  VA HOSPITAL, WEST LOS ANGELES   \n",
       "3651      CO 1-hour 1971           1 HOUR  VA HOSPITAL, WEST LOS ANGELES   \n",
       "\n",
       "     site_number       state state_code   units_of_measure  validity_indicator  \n",
       "0           0113  California         06  Parts per million                   Y  \n",
       "1           0113  California         06  Parts per million                   Y  \n",
       "2           0113  California         06  Parts per million                   Y  \n",
       "3           0113  California         06  Parts per million                   Y  \n",
       "4           0113  California         06  Parts per million                   Y  \n",
       "...          ...         ...        ...                ...                 ...  \n",
       "3647        0113  California         06  Parts per million                   Y  \n",
       "3648        0113  California         06  Parts per million                   Y  \n",
       "3649        0113  California         06  Parts per million                   Y  \n",
       "3650        0113  California         06  Parts per million                   Y  \n",
       "3651        0113  California         06  Parts per million                   Y  \n",
       "\n",
       "[3652 rows x 32 columns]"
      ]
     },
     "execution_count": 23,
     "metadata": {},
     "output_type": "execute_result"
    }
   ],
   "source": [
    "df.groupby"
   ]
  },
  {
   "cell_type": "code",
   "execution_count": 15,
   "metadata": {},
   "outputs": [
    {
     "data": {
      "text/plain": [
       "(3652, 32)"
      ]
     },
     "execution_count": 15,
     "metadata": {},
     "output_type": "execute_result"
    }
   ],
   "source": [
    "df.shape"
   ]
  },
  {
   "cell_type": "code",
   "execution_count": 16,
   "metadata": {},
   "outputs": [
    {
     "data": {
      "text/plain": [
       "array(['06_037'], dtype=object)"
      ]
     },
     "execution_count": 16,
     "metadata": {},
     "output_type": "execute_result"
    }
   ],
   "source": [
    "df['id'].unique()"
   ]
  },
  {
   "cell_type": "code",
   "execution_count": 17,
   "metadata": {},
   "outputs": [],
   "source": [
    "date_idx = pd.date_range(df['date_local'].min(), df['date_local'].max())"
   ]
  },
  {
   "cell_type": "code",
   "execution_count": 18,
   "metadata": {},
   "outputs": [
    {
     "data": {
      "text/plain": [
       "(3652,)"
      ]
     },
     "execution_count": 18,
     "metadata": {},
     "output_type": "execute_result"
    }
   ],
   "source": [
    "date_idx.shape"
   ]
  },
  {
   "cell_type": "code",
   "execution_count": 19,
   "metadata": {},
   "outputs": [],
   "source": [
    "def reindex_by_date(df):\n",
    "    date_idx = pd.date_range(df['date_local'].min(), df['date_local'].max())\n",
    "    return df.reindex(date_idx).ffill()"
   ]
  },
  {
   "cell_type": "code",
   "execution_count": 20,
   "metadata": {},
   "outputs": [
    {
     "data": {
      "text/html": [
       "<div>\n",
       "<style scoped>\n",
       "    .dataframe tbody tr th:only-of-type {\n",
       "        vertical-align: middle;\n",
       "    }\n",
       "\n",
       "    .dataframe tbody tr th {\n",
       "        vertical-align: top;\n",
       "    }\n",
       "\n",
       "    .dataframe thead th {\n",
       "        text-align: right;\n",
       "    }\n",
       "</style>\n",
       "<table border=\"1\" class=\"dataframe\">\n",
       "  <thead>\n",
       "    <tr style=\"text-align: right;\">\n",
       "      <th></th>\n",
       "      <th>id</th>\n",
       "      <th>date_local</th>\n",
       "      <th>aqi</th>\n",
       "      <th>arithmetic_mean</th>\n",
       "      <th>cbsa</th>\n",
       "      <th>cbsa_code</th>\n",
       "      <th>city</th>\n",
       "      <th>county</th>\n",
       "      <th>county_code</th>\n",
       "      <th>date_of_last_change</th>\n",
       "      <th>...</th>\n",
       "      <th>parameter_code</th>\n",
       "      <th>poc</th>\n",
       "      <th>pollutant_standard</th>\n",
       "      <th>sample_duration</th>\n",
       "      <th>site_address</th>\n",
       "      <th>site_number</th>\n",
       "      <th>state</th>\n",
       "      <th>state_code</th>\n",
       "      <th>units_of_measure</th>\n",
       "      <th>validity_indicator</th>\n",
       "    </tr>\n",
       "  </thead>\n",
       "  <tbody>\n",
       "    <tr>\n",
       "      <th>2010-01-01</th>\n",
       "      <td>06_037</td>\n",
       "      <td>2010-01-01</td>\n",
       "      <td>17.0</td>\n",
       "      <td>1.086957</td>\n",
       "      <td>Los Angeles-Long Beach-Anaheim, CA</td>\n",
       "      <td>31080</td>\n",
       "      <td>West Los Angeles</td>\n",
       "      <td>Los Angeles</td>\n",
       "      <td>037</td>\n",
       "      <td>2016-04-10</td>\n",
       "      <td>...</td>\n",
       "      <td>42101</td>\n",
       "      <td>1</td>\n",
       "      <td>CO 1-hour 1971</td>\n",
       "      <td>1 HOUR</td>\n",
       "      <td>VA HOSPITAL, WEST LOS ANGELES</td>\n",
       "      <td>0113</td>\n",
       "      <td>California</td>\n",
       "      <td>06</td>\n",
       "      <td>Parts per million</td>\n",
       "      <td>Y</td>\n",
       "    </tr>\n",
       "    <tr>\n",
       "      <th>2010-01-02</th>\n",
       "      <td>06_037</td>\n",
       "      <td>2010-01-02</td>\n",
       "      <td>30.0</td>\n",
       "      <td>1.691304</td>\n",
       "      <td>Los Angeles-Long Beach-Anaheim, CA</td>\n",
       "      <td>31080</td>\n",
       "      <td>West Los Angeles</td>\n",
       "      <td>Los Angeles</td>\n",
       "      <td>037</td>\n",
       "      <td>2016-04-10</td>\n",
       "      <td>...</td>\n",
       "      <td>42101</td>\n",
       "      <td>1</td>\n",
       "      <td>CO 1-hour 1971</td>\n",
       "      <td>1 HOUR</td>\n",
       "      <td>VA HOSPITAL, WEST LOS ANGELES</td>\n",
       "      <td>0113</td>\n",
       "      <td>California</td>\n",
       "      <td>06</td>\n",
       "      <td>Parts per million</td>\n",
       "      <td>Y</td>\n",
       "    </tr>\n",
       "    <tr>\n",
       "      <th>2010-01-03</th>\n",
       "      <td>06_037</td>\n",
       "      <td>2010-01-03</td>\n",
       "      <td>28.0</td>\n",
       "      <td>1.329167</td>\n",
       "      <td>Los Angeles-Long Beach-Anaheim, CA</td>\n",
       "      <td>31080</td>\n",
       "      <td>West Los Angeles</td>\n",
       "      <td>Los Angeles</td>\n",
       "      <td>037</td>\n",
       "      <td>2016-04-10</td>\n",
       "      <td>...</td>\n",
       "      <td>42101</td>\n",
       "      <td>1</td>\n",
       "      <td>CO 1-hour 1971</td>\n",
       "      <td>1 HOUR</td>\n",
       "      <td>VA HOSPITAL, WEST LOS ANGELES</td>\n",
       "      <td>0113</td>\n",
       "      <td>California</td>\n",
       "      <td>06</td>\n",
       "      <td>Parts per million</td>\n",
       "      <td>Y</td>\n",
       "    </tr>\n",
       "    <tr>\n",
       "      <th>2010-01-04</th>\n",
       "      <td>06_037</td>\n",
       "      <td>2010-01-04</td>\n",
       "      <td>27.0</td>\n",
       "      <td>1.326087</td>\n",
       "      <td>Los Angeles-Long Beach-Anaheim, CA</td>\n",
       "      <td>31080</td>\n",
       "      <td>West Los Angeles</td>\n",
       "      <td>Los Angeles</td>\n",
       "      <td>037</td>\n",
       "      <td>2016-04-10</td>\n",
       "      <td>...</td>\n",
       "      <td>42101</td>\n",
       "      <td>1</td>\n",
       "      <td>CO 1-hour 1971</td>\n",
       "      <td>1 HOUR</td>\n",
       "      <td>VA HOSPITAL, WEST LOS ANGELES</td>\n",
       "      <td>0113</td>\n",
       "      <td>California</td>\n",
       "      <td>06</td>\n",
       "      <td>Parts per million</td>\n",
       "      <td>Y</td>\n",
       "    </tr>\n",
       "    <tr>\n",
       "      <th>2010-01-05</th>\n",
       "      <td>06_037</td>\n",
       "      <td>2010-01-05</td>\n",
       "      <td>30.0</td>\n",
       "      <td>1.562500</td>\n",
       "      <td>Los Angeles-Long Beach-Anaheim, CA</td>\n",
       "      <td>31080</td>\n",
       "      <td>West Los Angeles</td>\n",
       "      <td>Los Angeles</td>\n",
       "      <td>037</td>\n",
       "      <td>2016-04-10</td>\n",
       "      <td>...</td>\n",
       "      <td>42101</td>\n",
       "      <td>1</td>\n",
       "      <td>CO 1-hour 1971</td>\n",
       "      <td>1 HOUR</td>\n",
       "      <td>VA HOSPITAL, WEST LOS ANGELES</td>\n",
       "      <td>0113</td>\n",
       "      <td>California</td>\n",
       "      <td>06</td>\n",
       "      <td>Parts per million</td>\n",
       "      <td>Y</td>\n",
       "    </tr>\n",
       "    <tr>\n",
       "      <th>...</th>\n",
       "      <td>...</td>\n",
       "      <td>...</td>\n",
       "      <td>...</td>\n",
       "      <td>...</td>\n",
       "      <td>...</td>\n",
       "      <td>...</td>\n",
       "      <td>...</td>\n",
       "      <td>...</td>\n",
       "      <td>...</td>\n",
       "      <td>...</td>\n",
       "      <td>...</td>\n",
       "      <td>...</td>\n",
       "      <td>...</td>\n",
       "      <td>...</td>\n",
       "      <td>...</td>\n",
       "      <td>...</td>\n",
       "      <td>...</td>\n",
       "      <td>...</td>\n",
       "      <td>...</td>\n",
       "      <td>...</td>\n",
       "      <td>...</td>\n",
       "    </tr>\n",
       "    <tr>\n",
       "      <th>2019-12-27</th>\n",
       "      <td>06_037</td>\n",
       "      <td>2019-12-27</td>\n",
       "      <td>18.0</td>\n",
       "      <td>0.991667</td>\n",
       "      <td>Los Angeles-Long Beach-Anaheim, CA</td>\n",
       "      <td>31080</td>\n",
       "      <td>West Los Angeles</td>\n",
       "      <td>Los Angeles</td>\n",
       "      <td>037</td>\n",
       "      <td>2020-03-25</td>\n",
       "      <td>...</td>\n",
       "      <td>42101</td>\n",
       "      <td>1</td>\n",
       "      <td>CO 1-hour 1971</td>\n",
       "      <td>1 HOUR</td>\n",
       "      <td>VA HOSPITAL, WEST LOS ANGELES</td>\n",
       "      <td>0113</td>\n",
       "      <td>California</td>\n",
       "      <td>06</td>\n",
       "      <td>Parts per million</td>\n",
       "      <td>Y</td>\n",
       "    </tr>\n",
       "    <tr>\n",
       "      <th>2019-12-28</th>\n",
       "      <td>06_037</td>\n",
       "      <td>2019-12-28</td>\n",
       "      <td>13.0</td>\n",
       "      <td>0.787500</td>\n",
       "      <td>Los Angeles-Long Beach-Anaheim, CA</td>\n",
       "      <td>31080</td>\n",
       "      <td>West Los Angeles</td>\n",
       "      <td>Los Angeles</td>\n",
       "      <td>037</td>\n",
       "      <td>2020-03-25</td>\n",
       "      <td>...</td>\n",
       "      <td>42101</td>\n",
       "      <td>1</td>\n",
       "      <td>CO 1-hour 1971</td>\n",
       "      <td>1 HOUR</td>\n",
       "      <td>VA HOSPITAL, WEST LOS ANGELES</td>\n",
       "      <td>0113</td>\n",
       "      <td>California</td>\n",
       "      <td>06</td>\n",
       "      <td>Parts per million</td>\n",
       "      <td>Y</td>\n",
       "    </tr>\n",
       "    <tr>\n",
       "      <th>2019-12-29</th>\n",
       "      <td>06_037</td>\n",
       "      <td>2019-12-29</td>\n",
       "      <td>16.0</td>\n",
       "      <td>0.950000</td>\n",
       "      <td>Los Angeles-Long Beach-Anaheim, CA</td>\n",
       "      <td>31080</td>\n",
       "      <td>West Los Angeles</td>\n",
       "      <td>Los Angeles</td>\n",
       "      <td>037</td>\n",
       "      <td>2020-03-25</td>\n",
       "      <td>...</td>\n",
       "      <td>42101</td>\n",
       "      <td>1</td>\n",
       "      <td>CO 1-hour 1971</td>\n",
       "      <td>1 HOUR</td>\n",
       "      <td>VA HOSPITAL, WEST LOS ANGELES</td>\n",
       "      <td>0113</td>\n",
       "      <td>California</td>\n",
       "      <td>06</td>\n",
       "      <td>Parts per million</td>\n",
       "      <td>Y</td>\n",
       "    </tr>\n",
       "    <tr>\n",
       "      <th>2019-12-30</th>\n",
       "      <td>06_037</td>\n",
       "      <td>2019-12-30</td>\n",
       "      <td>17.0</td>\n",
       "      <td>0.754167</td>\n",
       "      <td>Los Angeles-Long Beach-Anaheim, CA</td>\n",
       "      <td>31080</td>\n",
       "      <td>West Los Angeles</td>\n",
       "      <td>Los Angeles</td>\n",
       "      <td>037</td>\n",
       "      <td>2020-03-25</td>\n",
       "      <td>...</td>\n",
       "      <td>42101</td>\n",
       "      <td>1</td>\n",
       "      <td>CO 1-hour 1971</td>\n",
       "      <td>1 HOUR</td>\n",
       "      <td>VA HOSPITAL, WEST LOS ANGELES</td>\n",
       "      <td>0113</td>\n",
       "      <td>California</td>\n",
       "      <td>06</td>\n",
       "      <td>Parts per million</td>\n",
       "      <td>Y</td>\n",
       "    </tr>\n",
       "    <tr>\n",
       "      <th>2019-12-31</th>\n",
       "      <td>06_037</td>\n",
       "      <td>2019-12-31</td>\n",
       "      <td>22.0</td>\n",
       "      <td>1.287500</td>\n",
       "      <td>Los Angeles-Long Beach-Anaheim, CA</td>\n",
       "      <td>31080</td>\n",
       "      <td>West Los Angeles</td>\n",
       "      <td>Los Angeles</td>\n",
       "      <td>037</td>\n",
       "      <td>2020-03-25</td>\n",
       "      <td>...</td>\n",
       "      <td>42101</td>\n",
       "      <td>1</td>\n",
       "      <td>CO 1-hour 1971</td>\n",
       "      <td>1 HOUR</td>\n",
       "      <td>VA HOSPITAL, WEST LOS ANGELES</td>\n",
       "      <td>0113</td>\n",
       "      <td>California</td>\n",
       "      <td>06</td>\n",
       "      <td>Parts per million</td>\n",
       "      <td>Y</td>\n",
       "    </tr>\n",
       "  </tbody>\n",
       "</table>\n",
       "<p>3652 rows × 32 columns</p>\n",
       "</div>"
      ],
      "text/plain": [
       "                id date_local   aqi  arithmetic_mean  \\\n",
       "2010-01-01  06_037 2010-01-01  17.0         1.086957   \n",
       "2010-01-02  06_037 2010-01-02  30.0         1.691304   \n",
       "2010-01-03  06_037 2010-01-03  28.0         1.329167   \n",
       "2010-01-04  06_037 2010-01-04  27.0         1.326087   \n",
       "2010-01-05  06_037 2010-01-05  30.0         1.562500   \n",
       "...            ...        ...   ...              ...   \n",
       "2019-12-27  06_037 2019-12-27  18.0         0.991667   \n",
       "2019-12-28  06_037 2019-12-28  13.0         0.787500   \n",
       "2019-12-29  06_037 2019-12-29  16.0         0.950000   \n",
       "2019-12-30  06_037 2019-12-30  17.0         0.754167   \n",
       "2019-12-31  06_037 2019-12-31  22.0         1.287500   \n",
       "\n",
       "                                          cbsa  cbsa_code              city  \\\n",
       "2010-01-01  Los Angeles-Long Beach-Anaheim, CA      31080  West Los Angeles   \n",
       "2010-01-02  Los Angeles-Long Beach-Anaheim, CA      31080  West Los Angeles   \n",
       "2010-01-03  Los Angeles-Long Beach-Anaheim, CA      31080  West Los Angeles   \n",
       "2010-01-04  Los Angeles-Long Beach-Anaheim, CA      31080  West Los Angeles   \n",
       "2010-01-05  Los Angeles-Long Beach-Anaheim, CA      31080  West Los Angeles   \n",
       "...                                        ...        ...               ...   \n",
       "2019-12-27  Los Angeles-Long Beach-Anaheim, CA      31080  West Los Angeles   \n",
       "2019-12-28  Los Angeles-Long Beach-Anaheim, CA      31080  West Los Angeles   \n",
       "2019-12-29  Los Angeles-Long Beach-Anaheim, CA      31080  West Los Angeles   \n",
       "2019-12-30  Los Angeles-Long Beach-Anaheim, CA      31080  West Los Angeles   \n",
       "2019-12-31  Los Angeles-Long Beach-Anaheim, CA      31080  West Los Angeles   \n",
       "\n",
       "                 county county_code date_of_last_change  ... parameter_code  \\\n",
       "2010-01-01  Los Angeles         037          2016-04-10  ...          42101   \n",
       "2010-01-02  Los Angeles         037          2016-04-10  ...          42101   \n",
       "2010-01-03  Los Angeles         037          2016-04-10  ...          42101   \n",
       "2010-01-04  Los Angeles         037          2016-04-10  ...          42101   \n",
       "2010-01-05  Los Angeles         037          2016-04-10  ...          42101   \n",
       "...                 ...         ...                 ...  ...            ...   \n",
       "2019-12-27  Los Angeles         037          2020-03-25  ...          42101   \n",
       "2019-12-28  Los Angeles         037          2020-03-25  ...          42101   \n",
       "2019-12-29  Los Angeles         037          2020-03-25  ...          42101   \n",
       "2019-12-30  Los Angeles         037          2020-03-25  ...          42101   \n",
       "2019-12-31  Los Angeles         037          2020-03-25  ...          42101   \n",
       "\n",
       "           poc  pollutant_standard  sample_duration  \\\n",
       "2010-01-01   1      CO 1-hour 1971           1 HOUR   \n",
       "2010-01-02   1      CO 1-hour 1971           1 HOUR   \n",
       "2010-01-03   1      CO 1-hour 1971           1 HOUR   \n",
       "2010-01-04   1      CO 1-hour 1971           1 HOUR   \n",
       "2010-01-05   1      CO 1-hour 1971           1 HOUR   \n",
       "...         ..                 ...              ...   \n",
       "2019-12-27   1      CO 1-hour 1971           1 HOUR   \n",
       "2019-12-28   1      CO 1-hour 1971           1 HOUR   \n",
       "2019-12-29   1      CO 1-hour 1971           1 HOUR   \n",
       "2019-12-30   1      CO 1-hour 1971           1 HOUR   \n",
       "2019-12-31   1      CO 1-hour 1971           1 HOUR   \n",
       "\n",
       "                             site_address site_number       state state_code  \\\n",
       "2010-01-01  VA HOSPITAL, WEST LOS ANGELES        0113  California         06   \n",
       "2010-01-02  VA HOSPITAL, WEST LOS ANGELES        0113  California         06   \n",
       "2010-01-03  VA HOSPITAL, WEST LOS ANGELES        0113  California         06   \n",
       "2010-01-04  VA HOSPITAL, WEST LOS ANGELES        0113  California         06   \n",
       "2010-01-05  VA HOSPITAL, WEST LOS ANGELES        0113  California         06   \n",
       "...                                   ...         ...         ...        ...   \n",
       "2019-12-27  VA HOSPITAL, WEST LOS ANGELES        0113  California         06   \n",
       "2019-12-28  VA HOSPITAL, WEST LOS ANGELES        0113  California         06   \n",
       "2019-12-29  VA HOSPITAL, WEST LOS ANGELES        0113  California         06   \n",
       "2019-12-30  VA HOSPITAL, WEST LOS ANGELES        0113  California         06   \n",
       "2019-12-31  VA HOSPITAL, WEST LOS ANGELES        0113  California         06   \n",
       "\n",
       "             units_of_measure  validity_indicator  \n",
       "2010-01-01  Parts per million                   Y  \n",
       "2010-01-02  Parts per million                   Y  \n",
       "2010-01-03  Parts per million                   Y  \n",
       "2010-01-04  Parts per million                   Y  \n",
       "2010-01-05  Parts per million                   Y  \n",
       "...                       ...                 ...  \n",
       "2019-12-27  Parts per million                   Y  \n",
       "2019-12-28  Parts per million                   Y  \n",
       "2019-12-29  Parts per million                   Y  \n",
       "2019-12-30  Parts per million                   Y  \n",
       "2019-12-31  Parts per million                   Y  \n",
       "\n",
       "[3652 rows x 32 columns]"
      ]
     },
     "execution_count": 20,
     "metadata": {},
     "output_type": "execute_result"
    }
   ],
   "source": [
    "df.groupby('id').apply(reindex_by_date).reset_index(0, drop=True)"
   ]
  },
  {
   "cell_type": "code",
   "execution_count": null,
   "metadata": {},
   "outputs": [],
   "source": []
  },
  {
   "cell_type": "code",
   "execution_count": 21,
   "metadata": {},
   "outputs": [
    {
     "data": {
      "text/plain": [
       "(3652, 32)"
      ]
     },
     "execution_count": 21,
     "metadata": {},
     "output_type": "execute_result"
    }
   ],
   "source": [
    "df.shape"
   ]
  },
  {
   "cell_type": "code",
   "execution_count": null,
   "metadata": {},
   "outputs": [],
   "source": [
    "import numpy as np\n",
    "df =df.reindex(date_idx, fill_value=np.nan).reset_index()"
   ]
  },
  {
   "cell_type": "code",
   "execution_count": null,
   "metadata": {},
   "outputs": [],
   "source": [
    "df.shape"
   ]
  },
  {
   "cell_type": "code",
   "execution_count": null,
   "metadata": {},
   "outputs": [],
   "source": [
    "df"
   ]
  },
  {
   "cell_type": "code",
   "execution_count": null,
   "metadata": {},
   "outputs": [],
   "source": [
    "df = pd.read_csv()\n",
    "df['date_local'] = pd.to_datetime(df['date_local'], format='%Y-%m-%d')"
   ]
  },
  {
   "cell_type": "code",
   "execution_count": null,
   "metadata": {},
   "outputs": [],
   "source": []
  },
  {
   "cell_type": "code",
   "execution_count": null,
   "metadata": {},
   "outputs": [],
   "source": []
  },
  {
   "cell_type": "code",
   "execution_count": null,
   "metadata": {},
   "outputs": [],
   "source": [
    "idx = pd.date_range('11-15-2016', '11-18-2016')"
   ]
  }
 ],
 "metadata": {
  "kernelspec": {
   "display_name": "Python 3",
   "language": "python",
   "name": "python3"
  },
  "language_info": {
   "codemirror_mode": {
    "name": "ipython",
    "version": 3
   },
   "file_extension": ".py",
   "mimetype": "text/x-python",
   "name": "python",
   "nbconvert_exporter": "python",
   "pygments_lexer": "ipython3",
   "version": "3.7.9"
  }
 },
 "nbformat": 4,
 "nbformat_minor": 4
}
